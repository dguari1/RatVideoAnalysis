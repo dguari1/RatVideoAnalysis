{
 "cells": [
  {
   "cell_type": "code",
   "execution_count": 66,
   "metadata": {},
   "outputs": [],
   "source": [
    "import cv2\n",
    "import numpy as np\n",
    "import matplotlib.pyplot as plt\n",
    "import time\n",
    "from scipy.stats import pearsonr\n",
    "import pandas as pd\n",
    "%matplotlib inline"
   ]
  },
  {
   "cell_type": "code",
   "execution_count": 7,
   "metadata": {},
   "outputs": [],
   "source": [
    "file = r'G:\\vid_test\\temp_images\\0.0.png'"
   ]
  },
  {
   "cell_type": "code",
   "execution_count": 8,
   "metadata": {},
   "outputs": [
    {
     "data": {
      "text/plain": [
       "(500, 371)"
      ]
     },
     "execution_count": 8,
     "metadata": {},
     "output_type": "execute_result"
    }
   ],
   "source": [
    "image = cv2.imread(file,0)\n",
    "image.shape"
   ]
  },
  {
   "cell_type": "code",
   "execution_count": 37,
   "metadata": {},
   "outputs": [],
   "source": [
    "angle = 0\n",
    "M = cv2.getRotationMatrix2D((380,320), angle, 1.0)\n",
    "rotated = cv2.warpAffine(image, M, (image.shape[1], image.shape[0]))"
   ]
  },
  {
   "cell_type": "code",
   "execution_count": 38,
   "metadata": {},
   "outputs": [
    {
     "data": {
      "text/plain": [
       "<matplotlib.image.AxesImage at 0x1ff1a6c10b8>"
      ]
     },
     "execution_count": 38,
     "metadata": {},
     "output_type": "execute_result"
    },
    {
     "data": {
      "image/png": "[encoded data removed]",
      "text/plain": [
       "<Figure size 720x360 with 2 Axes>"
      ]
     },
     "metadata": {
      "needs_background": "light"
     },
     "output_type": "display_data"
    }
   ],
   "source": [
    "f = plt.figure(figsize=(10,5))\n",
    "ax = f.add_subplot(1, 2, 1)   \n",
    "ax.axis('off')\n",
    "ax.imshow(cv2.cvtColor(image, cv2.COLOR_BGR2RGB))  \n",
    "ax = f.add_subplot(1, 2, 2)   \n",
    "ax.axis('off')\n",
    "ax.imshow(cv2.cvtColor(rotated, cv2.COLOR_BGR2RGB))  "
   ]
  },
  {
   "cell_type": "code",
   "execution_count": 77,
   "metadata": {},
   "outputs": [
    {
     "name": "stdout",
     "output_type": "stream",
     "text": [
      "4.27 ms ± 78.9 µs per loop (mean ± std. dev. of 7 runs, 100 loops each)\n"
     ]
    }
   ],
   "source": [
    "%%timeit\n",
    "#st = time.time()\n",
    "correl = cv2.matchTemplate(image, rotated, cv2.TM_CCORR_NORMED)    \n",
    "#end_t = time.time()-st\n",
    "#correl[0], end_t"
   ]
  },
  {
   "cell_type": "code",
   "execution_count": 76,
   "metadata": {},
   "outputs": [
    {
     "name": "stdout",
     "output_type": "stream",
     "text": [
      "4.17 ms ± 161 µs per loop (mean ± std. dev. of 7 runs, 100 loops each)\n"
     ]
    }
   ],
   "source": [
    "%%timeit\n",
    "#st = time.time()\n",
    "correl_np = np.corrcoef(image.reshape(-1),rotated.reshape(-1))\n",
    "#end_t = time.time()-st\n",
    "#correl_np[0,1], end_t"
   ]
  },
  {
   "cell_type": "code",
   "execution_count": 75,
   "metadata": {},
   "outputs": [
    {
     "name": "stdout",
     "output_type": "stream",
     "text": [
      "4.36 ms ± 161 µs per loop (mean ± std. dev. of 7 runs, 100 loops each)\n"
     ]
    }
   ],
   "source": [
    "%%timeit\n",
    "#st = time.time()\n",
    "df = pd.DataFrame({'a': image.reshape(-1), 'b':rotated.reshape(-1)})\n",
    "df.corr()\n",
    "#end_t = time.time()-st\n",
    "#correl_np[0,1], end_t"
   ]
  },
  {
   "cell_type": "code",
   "execution_count": 78,
   "metadata": {},
   "outputs": [],
   "source": [
    "angles = np.linspace(-4,4,20);\n",
    "angles = np.insert(angles, len(angles)//2, 0)\n",
    "\n",
    "\n",
    "corr_cv2= []\n",
    "corr_np = []\n",
    "\n",
    "for angle in angles:\n",
    "    M = cv2.getRotationMatrix2D((380,320), angle, 1.0)\n",
    "    rotated = cv2.warpAffine(image, M, (image.shape[1], image.shape[0]))\n",
    "    correl = cv2.matchTemplate(image, rotated, cv2.TM_CCORR_NORMED)    \n",
    "    corr_cv2.append(correl[0])\n",
    "    correl = np.corrcoef(image.reshape(-1),rotated.reshape(-1))\n",
    "    corr_np.append(correl[0,1])"
   ]
  },
  {
   "cell_type": "code",
   "execution_count": 79,
   "metadata": {},
   "outputs": [
    {
     "data": {
      "text/plain": [
       "[<matplotlib.lines.Line2D at 0x1ff1db75a90>]"
      ]
     },
     "execution_count": 79,
     "metadata": {},
     "output_type": "execute_result"
    },
    {
     "data": {
      "image/png": "[encoded data removed]",
      "text/plain": [
       "<Figure size 432x288 with 1 Axes>"
      ]
     },
     "metadata": {
      "needs_background": "light"
     },
     "output_type": "display_data"
    }
   ],
   "source": [
    "plt.plot(angles, corr_cv2)\n",
    "plt.plot(angles, corr_np)"
   ]
  },
  {
   "cell_type": "code",
   "execution_count": null,
   "metadata": {},
   "outputs": [],
   "source": []
  }
 ],
 "metadata": {
  "kernelspec": {
   "display_name": "Python 3",
   "language": "python",
   "name": "python3"
  },
  "language_info": {
   "codemirror_mode": {
    "name": "ipython",
    "version": 3
   },
   "file_extension": ".py",
   "mimetype": "text/x-python",
   "name": "python",
   "nbconvert_exporter": "python",
   "pygments_lexer": "ipython3",
   "version": "3.6.7"
  }
 },
 "nbformat": 4,
 "nbformat_minor": 2
}
